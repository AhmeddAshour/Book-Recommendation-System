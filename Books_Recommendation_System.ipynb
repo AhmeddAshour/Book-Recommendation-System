{
  "nbformat": 4,
  "nbformat_minor": 0,
  "metadata": {
    "colab": {
      "provenance": [],
      "toc_visible": true,
      "gpuType": "T4"
    },
    "kernelspec": {
      "name": "python3",
      "display_name": "Python 3"
    },
    "language_info": {
      "name": "python"
    },
    "accelerator": "GPU"
  },
  "cells": [
    {
      "cell_type": "markdown",
      "source": [
        "#Data Preprocessing"
      ],
      "metadata": {
        "id": "UwvyvMkeyfOg"
      }
    },
    {
      "cell_type": "markdown",
      "source": [
        "##Libraries Used"
      ],
      "metadata": {
        "id": "0KrIDDn3yjAN"
      }
    },
    {
      "cell_type": "code",
      "source": [
        "import pandas as pd\n",
        "from sklearn.metrics.pairwise import cosine_similarity\n",
        "from sklearn.feature_extraction.text import TfidfVectorizer\n",
        "from sklearn.neighbors import NearestNeighbors\n",
        "from scipy.sparse import csr_matrix\n",
        "import numpy as np\n",
        "from tabulate import tabulate  # Using it for the recommendation outputs \"to be in a table\""
      ],
      "metadata": {
        "id": "Aa19nqeal7ge"
      },
      "execution_count": 25,
      "outputs": []
    },
    {
      "cell_type": "code",
      "source": [
        "!unzip \"/content/Books.csv.zip\"\n",
        "!unzip \"/content/Ratings.csv.zip\"\n",
        "!unzip \"/content/Users.csv.zip\""
      ],
      "metadata": {
        "colab": {
          "base_uri": "https://localhost:8080/"
        },
        "id": "etf2-mSwU6on",
        "outputId": "6b7e56b3-a44c-4793-eb0a-a44b3673ee8f"
      },
      "execution_count": 26,
      "outputs": [
        {
          "output_type": "stream",
          "name": "stdout",
          "text": [
            "Archive:  /content/Books.csv.zip\n",
            "  inflating: Books.csv               \n",
            "Archive:  /content/Ratings.csv.zip\n",
            "  inflating: Ratings.csv             \n",
            "Archive:  /content/Users.csv.zip\n",
            "  inflating: Users.csv               \n"
          ]
        }
      ]
    },
    {
      "cell_type": "code",
      "source": [
        "# Load datasets\n",
        "books = pd.read_csv(\"/content/Books.csv\")\n",
        "ratings = pd.read_csv(\"/content/Ratings.csv\")\n",
        "users = pd.read_csv(\"/content/Users.csv\")"
      ],
      "metadata": {
        "colab": {
          "base_uri": "https://localhost:8080/"
        },
        "id": "zCoscLByVj1l",
        "outputId": "91c8bfe1-042b-422d-f26d-fa1b320828ba"
      },
      "execution_count": 27,
      "outputs": [
        {
          "output_type": "stream",
          "name": "stderr",
          "text": [
            "<ipython-input-27-904492a60b1b>:2: DtypeWarning: Columns (3) have mixed types. Specify dtype option on import or set low_memory=False.\n",
            "  books = pd.read_csv(\"/content/Books.csv\")\n"
          ]
        }
      ]
    },
    {
      "cell_type": "markdown",
      "source": [
        "##Viewing Data"
      ],
      "metadata": {
        "id": "IjepRcXqymmf"
      }
    },
    {
      "cell_type": "code",
      "source": [
        "books.info()"
      ],
      "metadata": {
        "colab": {
          "base_uri": "https://localhost:8080/"
        },
        "id": "av4TZuLVXEqw",
        "outputId": "31c14295-6b7a-4f90-b437-c68716ae2517"
      },
      "execution_count": 28,
      "outputs": [
        {
          "output_type": "stream",
          "name": "stdout",
          "text": [
            "<class 'pandas.core.frame.DataFrame'>\n",
            "RangeIndex: 271360 entries, 0 to 271359\n",
            "Data columns (total 8 columns):\n",
            " #   Column               Non-Null Count   Dtype \n",
            "---  ------               --------------   ----- \n",
            " 0   ISBN                 271360 non-null  object\n",
            " 1   Book-Title           271360 non-null  object\n",
            " 2   Book-Author          271358 non-null  object\n",
            " 3   Year-Of-Publication  271360 non-null  object\n",
            " 4   Publisher            271358 non-null  object\n",
            " 5   Image-URL-S          271360 non-null  object\n",
            " 6   Image-URL-M          271360 non-null  object\n",
            " 7   Image-URL-L          271357 non-null  object\n",
            "dtypes: object(8)\n",
            "memory usage: 16.6+ MB\n"
          ]
        }
      ]
    },
    {
      "cell_type": "code",
      "source": [
        "ratings.info()"
      ],
      "metadata": {
        "colab": {
          "base_uri": "https://localhost:8080/"
        },
        "id": "PxmuR2OtXMN1",
        "outputId": "b558e475-32a4-49c2-a964-b3088e8ff571"
      },
      "execution_count": 29,
      "outputs": [
        {
          "output_type": "stream",
          "name": "stdout",
          "text": [
            "<class 'pandas.core.frame.DataFrame'>\n",
            "RangeIndex: 1149780 entries, 0 to 1149779\n",
            "Data columns (total 3 columns):\n",
            " #   Column       Non-Null Count    Dtype \n",
            "---  ------       --------------    ----- \n",
            " 0   User-ID      1149780 non-null  int64 \n",
            " 1   ISBN         1149780 non-null  object\n",
            " 2   Book-Rating  1149780 non-null  int64 \n",
            "dtypes: int64(2), object(1)\n",
            "memory usage: 26.3+ MB\n"
          ]
        }
      ]
    },
    {
      "cell_type": "code",
      "source": [
        "users.info()"
      ],
      "metadata": {
        "colab": {
          "base_uri": "https://localhost:8080/"
        },
        "id": "3bVAOkAAXP0R",
        "outputId": "59e02688-1557-44aa-df76-22a10cdcc395"
      },
      "execution_count": 30,
      "outputs": [
        {
          "output_type": "stream",
          "name": "stdout",
          "text": [
            "<class 'pandas.core.frame.DataFrame'>\n",
            "RangeIndex: 278858 entries, 0 to 278857\n",
            "Data columns (total 3 columns):\n",
            " #   Column    Non-Null Count   Dtype  \n",
            "---  ------    --------------   -----  \n",
            " 0   User-ID   278858 non-null  int64  \n",
            " 1   Location  278858 non-null  object \n",
            " 2   Age       168096 non-null  float64\n",
            "dtypes: float64(1), int64(1), object(1)\n",
            "memory usage: 6.4+ MB\n"
          ]
        }
      ]
    },
    {
      "cell_type": "markdown",
      "source": [
        "##Preprocessing"
      ],
      "metadata": {
        "id": "J_10YT-wyptq"
      }
    },
    {
      "cell_type": "code",
      "source": [
        "# Drop 'Year-Of-Publication' column due to mixed types\n",
        "books = books.drop(columns=['Year-Of-Publication'])"
      ],
      "metadata": {
        "id": "tw78E8D0mewL"
      },
      "execution_count": 31,
      "outputs": []
    },
    {
      "cell_type": "code",
      "source": [
        "# Reduce dataset size for memory efficiency\n",
        "books = books.sample(frac=0.1, random_state=42)  # Use a 10% sample of books\n",
        "top_users = ratings['User-ID'].value_counts().head(5000).index  # Top 5000 users by ratings\n",
        "ratings = ratings[ratings['User-ID'].isin(top_users)]  # Filter ratings for top users\n",
        "ratings = ratings[ratings['ISBN'].isin(books['ISBN'])]  # Ensure ISBNs align with reduced books dataset"
      ],
      "metadata": {
        "id": "Od26MwSSmZF3"
      },
      "execution_count": 32,
      "outputs": []
    },
    {
      "cell_type": "code",
      "source": [
        "# Preprocessing\n",
        "books['combined_features'] = (books['Book-Title'].fillna('') + ' ' +\n",
        "                              books['Book-Author'].fillna(''))"
      ],
      "metadata": {
        "id": "ICufo5gqmh8-"
      },
      "execution_count": 33,
      "outputs": []
    },
    {
      "cell_type": "markdown",
      "source": [
        "#Building Algorithms"
      ],
      "metadata": {
        "id": "mLpw5-wbys3x"
      }
    },
    {
      "cell_type": "markdown",
      "source": [
        "##Collaborative Filtering Algorithm"
      ],
      "metadata": {
        "id": "Sn7xZw--yxhB"
      }
    },
    {
      "cell_type": "code",
      "source": [
        "# Collaborative Filtering\n",
        "# Creating user-item interaction matrix\n",
        "user_item_matrix = ratings.pivot(index='User-ID', columns='ISBN', values='Book-Rating').fillna(0)\n",
        "user_item_matrix = user_item_matrix.astype(np.float32)  # Reduce memory usage\n",
        "user_item_sparse = csr_matrix(user_item_matrix)"
      ],
      "metadata": {
        "id": "ZFp8dFmimkWA"
      },
      "execution_count": 34,
      "outputs": []
    },
    {
      "cell_type": "code",
      "source": [
        "# KNN model for Collaborative Filtering\n",
        "knn = NearestNeighbors(metric='cosine', algorithm='brute')\n",
        "knn.fit(user_item_sparse)"
      ],
      "metadata": {
        "colab": {
          "base_uri": "https://localhost:8080/",
          "height": 80
        },
        "id": "fumUNUkemkTX",
        "outputId": "782c0811-eeb5-4d7a-d391-751e89cc0f4e"
      },
      "execution_count": 35,
      "outputs": [
        {
          "output_type": "execute_result",
          "data": {
            "text/plain": [
              "NearestNeighbors(algorithm='brute', metric='cosine')"
            ],
            "text/html": [
              "<style>#sk-container-id-1 {\n",
              "  /* Definition of color scheme common for light and dark mode */\n",
              "  --sklearn-color-text: #000;\n",
              "  --sklearn-color-text-muted: #666;\n",
              "  --sklearn-color-line: gray;\n",
              "  /* Definition of color scheme for unfitted estimators */\n",
              "  --sklearn-color-unfitted-level-0: #fff5e6;\n",
              "  --sklearn-color-unfitted-level-1: #f6e4d2;\n",
              "  --sklearn-color-unfitted-level-2: #ffe0b3;\n",
              "  --sklearn-color-unfitted-level-3: chocolate;\n",
              "  /* Definition of color scheme for fitted estimators */\n",
              "  --sklearn-color-fitted-level-0: #f0f8ff;\n",
              "  --sklearn-color-fitted-level-1: #d4ebff;\n",
              "  --sklearn-color-fitted-level-2: #b3dbfd;\n",
              "  --sklearn-color-fitted-level-3: cornflowerblue;\n",
              "\n",
              "  /* Specific color for light theme */\n",
              "  --sklearn-color-text-on-default-background: var(--sg-text-color, var(--theme-code-foreground, var(--jp-content-font-color1, black)));\n",
              "  --sklearn-color-background: var(--sg-background-color, var(--theme-background, var(--jp-layout-color0, white)));\n",
              "  --sklearn-color-border-box: var(--sg-text-color, var(--theme-code-foreground, var(--jp-content-font-color1, black)));\n",
              "  --sklearn-color-icon: #696969;\n",
              "\n",
              "  @media (prefers-color-scheme: dark) {\n",
              "    /* Redefinition of color scheme for dark theme */\n",
              "    --sklearn-color-text-on-default-background: var(--sg-text-color, var(--theme-code-foreground, var(--jp-content-font-color1, white)));\n",
              "    --sklearn-color-background: var(--sg-background-color, var(--theme-background, var(--jp-layout-color0, #111)));\n",
              "    --sklearn-color-border-box: var(--sg-text-color, var(--theme-code-foreground, var(--jp-content-font-color1, white)));\n",
              "    --sklearn-color-icon: #878787;\n",
              "  }\n",
              "}\n",
              "\n",
              "#sk-container-id-1 {\n",
              "  color: var(--sklearn-color-text);\n",
              "}\n",
              "\n",
              "#sk-container-id-1 pre {\n",
              "  padding: 0;\n",
              "}\n",
              "\n",
              "#sk-container-id-1 input.sk-hidden--visually {\n",
              "  border: 0;\n",
              "  clip: rect(1px 1px 1px 1px);\n",
              "  clip: rect(1px, 1px, 1px, 1px);\n",
              "  height: 1px;\n",
              "  margin: -1px;\n",
              "  overflow: hidden;\n",
              "  padding: 0;\n",
              "  position: absolute;\n",
              "  width: 1px;\n",
              "}\n",
              "\n",
              "#sk-container-id-1 div.sk-dashed-wrapped {\n",
              "  border: 1px dashed var(--sklearn-color-line);\n",
              "  margin: 0 0.4em 0.5em 0.4em;\n",
              "  box-sizing: border-box;\n",
              "  padding-bottom: 0.4em;\n",
              "  background-color: var(--sklearn-color-background);\n",
              "}\n",
              "\n",
              "#sk-container-id-1 div.sk-container {\n",
              "  /* jupyter's `normalize.less` sets `[hidden] { display: none; }`\n",
              "     but bootstrap.min.css set `[hidden] { display: none !important; }`\n",
              "     so we also need the `!important` here to be able to override the\n",
              "     default hidden behavior on the sphinx rendered scikit-learn.org.\n",
              "     See: https://github.com/scikit-learn/scikit-learn/issues/21755 */\n",
              "  display: inline-block !important;\n",
              "  position: relative;\n",
              "}\n",
              "\n",
              "#sk-container-id-1 div.sk-text-repr-fallback {\n",
              "  display: none;\n",
              "}\n",
              "\n",
              "div.sk-parallel-item,\n",
              "div.sk-serial,\n",
              "div.sk-item {\n",
              "  /* draw centered vertical line to link estimators */\n",
              "  background-image: linear-gradient(var(--sklearn-color-text-on-default-background), var(--sklearn-color-text-on-default-background));\n",
              "  background-size: 2px 100%;\n",
              "  background-repeat: no-repeat;\n",
              "  background-position: center center;\n",
              "}\n",
              "\n",
              "/* Parallel-specific style estimator block */\n",
              "\n",
              "#sk-container-id-1 div.sk-parallel-item::after {\n",
              "  content: \"\";\n",
              "  width: 100%;\n",
              "  border-bottom: 2px solid var(--sklearn-color-text-on-default-background);\n",
              "  flex-grow: 1;\n",
              "}\n",
              "\n",
              "#sk-container-id-1 div.sk-parallel {\n",
              "  display: flex;\n",
              "  align-items: stretch;\n",
              "  justify-content: center;\n",
              "  background-color: var(--sklearn-color-background);\n",
              "  position: relative;\n",
              "}\n",
              "\n",
              "#sk-container-id-1 div.sk-parallel-item {\n",
              "  display: flex;\n",
              "  flex-direction: column;\n",
              "}\n",
              "\n",
              "#sk-container-id-1 div.sk-parallel-item:first-child::after {\n",
              "  align-self: flex-end;\n",
              "  width: 50%;\n",
              "}\n",
              "\n",
              "#sk-container-id-1 div.sk-parallel-item:last-child::after {\n",
              "  align-self: flex-start;\n",
              "  width: 50%;\n",
              "}\n",
              "\n",
              "#sk-container-id-1 div.sk-parallel-item:only-child::after {\n",
              "  width: 0;\n",
              "}\n",
              "\n",
              "/* Serial-specific style estimator block */\n",
              "\n",
              "#sk-container-id-1 div.sk-serial {\n",
              "  display: flex;\n",
              "  flex-direction: column;\n",
              "  align-items: center;\n",
              "  background-color: var(--sklearn-color-background);\n",
              "  padding-right: 1em;\n",
              "  padding-left: 1em;\n",
              "}\n",
              "\n",
              "\n",
              "/* Toggleable style: style used for estimator/Pipeline/ColumnTransformer box that is\n",
              "clickable and can be expanded/collapsed.\n",
              "- Pipeline and ColumnTransformer use this feature and define the default style\n",
              "- Estimators will overwrite some part of the style using the `sk-estimator` class\n",
              "*/\n",
              "\n",
              "/* Pipeline and ColumnTransformer style (default) */\n",
              "\n",
              "#sk-container-id-1 div.sk-toggleable {\n",
              "  /* Default theme specific background. It is overwritten whether we have a\n",
              "  specific estimator or a Pipeline/ColumnTransformer */\n",
              "  background-color: var(--sklearn-color-background);\n",
              "}\n",
              "\n",
              "/* Toggleable label */\n",
              "#sk-container-id-1 label.sk-toggleable__label {\n",
              "  cursor: pointer;\n",
              "  display: flex;\n",
              "  width: 100%;\n",
              "  margin-bottom: 0;\n",
              "  padding: 0.5em;\n",
              "  box-sizing: border-box;\n",
              "  text-align: center;\n",
              "  align-items: start;\n",
              "  justify-content: space-between;\n",
              "  gap: 0.5em;\n",
              "}\n",
              "\n",
              "#sk-container-id-1 label.sk-toggleable__label .caption {\n",
              "  font-size: 0.6rem;\n",
              "  font-weight: lighter;\n",
              "  color: var(--sklearn-color-text-muted);\n",
              "}\n",
              "\n",
              "#sk-container-id-1 label.sk-toggleable__label-arrow:before {\n",
              "  /* Arrow on the left of the label */\n",
              "  content: \"▸\";\n",
              "  float: left;\n",
              "  margin-right: 0.25em;\n",
              "  color: var(--sklearn-color-icon);\n",
              "}\n",
              "\n",
              "#sk-container-id-1 label.sk-toggleable__label-arrow:hover:before {\n",
              "  color: var(--sklearn-color-text);\n",
              "}\n",
              "\n",
              "/* Toggleable content - dropdown */\n",
              "\n",
              "#sk-container-id-1 div.sk-toggleable__content {\n",
              "  max-height: 0;\n",
              "  max-width: 0;\n",
              "  overflow: hidden;\n",
              "  text-align: left;\n",
              "  /* unfitted */\n",
              "  background-color: var(--sklearn-color-unfitted-level-0);\n",
              "}\n",
              "\n",
              "#sk-container-id-1 div.sk-toggleable__content.fitted {\n",
              "  /* fitted */\n",
              "  background-color: var(--sklearn-color-fitted-level-0);\n",
              "}\n",
              "\n",
              "#sk-container-id-1 div.sk-toggleable__content pre {\n",
              "  margin: 0.2em;\n",
              "  border-radius: 0.25em;\n",
              "  color: var(--sklearn-color-text);\n",
              "  /* unfitted */\n",
              "  background-color: var(--sklearn-color-unfitted-level-0);\n",
              "}\n",
              "\n",
              "#sk-container-id-1 div.sk-toggleable__content.fitted pre {\n",
              "  /* unfitted */\n",
              "  background-color: var(--sklearn-color-fitted-level-0);\n",
              "}\n",
              "\n",
              "#sk-container-id-1 input.sk-toggleable__control:checked~div.sk-toggleable__content {\n",
              "  /* Expand drop-down */\n",
              "  max-height: 200px;\n",
              "  max-width: 100%;\n",
              "  overflow: auto;\n",
              "}\n",
              "\n",
              "#sk-container-id-1 input.sk-toggleable__control:checked~label.sk-toggleable__label-arrow:before {\n",
              "  content: \"▾\";\n",
              "}\n",
              "\n",
              "/* Pipeline/ColumnTransformer-specific style */\n",
              "\n",
              "#sk-container-id-1 div.sk-label input.sk-toggleable__control:checked~label.sk-toggleable__label {\n",
              "  color: var(--sklearn-color-text);\n",
              "  background-color: var(--sklearn-color-unfitted-level-2);\n",
              "}\n",
              "\n",
              "#sk-container-id-1 div.sk-label.fitted input.sk-toggleable__control:checked~label.sk-toggleable__label {\n",
              "  background-color: var(--sklearn-color-fitted-level-2);\n",
              "}\n",
              "\n",
              "/* Estimator-specific style */\n",
              "\n",
              "/* Colorize estimator box */\n",
              "#sk-container-id-1 div.sk-estimator input.sk-toggleable__control:checked~label.sk-toggleable__label {\n",
              "  /* unfitted */\n",
              "  background-color: var(--sklearn-color-unfitted-level-2);\n",
              "}\n",
              "\n",
              "#sk-container-id-1 div.sk-estimator.fitted input.sk-toggleable__control:checked~label.sk-toggleable__label {\n",
              "  /* fitted */\n",
              "  background-color: var(--sklearn-color-fitted-level-2);\n",
              "}\n",
              "\n",
              "#sk-container-id-1 div.sk-label label.sk-toggleable__label,\n",
              "#sk-container-id-1 div.sk-label label {\n",
              "  /* The background is the default theme color */\n",
              "  color: var(--sklearn-color-text-on-default-background);\n",
              "}\n",
              "\n",
              "/* On hover, darken the color of the background */\n",
              "#sk-container-id-1 div.sk-label:hover label.sk-toggleable__label {\n",
              "  color: var(--sklearn-color-text);\n",
              "  background-color: var(--sklearn-color-unfitted-level-2);\n",
              "}\n",
              "\n",
              "/* Label box, darken color on hover, fitted */\n",
              "#sk-container-id-1 div.sk-label.fitted:hover label.sk-toggleable__label.fitted {\n",
              "  color: var(--sklearn-color-text);\n",
              "  background-color: var(--sklearn-color-fitted-level-2);\n",
              "}\n",
              "\n",
              "/* Estimator label */\n",
              "\n",
              "#sk-container-id-1 div.sk-label label {\n",
              "  font-family: monospace;\n",
              "  font-weight: bold;\n",
              "  display: inline-block;\n",
              "  line-height: 1.2em;\n",
              "}\n",
              "\n",
              "#sk-container-id-1 div.sk-label-container {\n",
              "  text-align: center;\n",
              "}\n",
              "\n",
              "/* Estimator-specific */\n",
              "#sk-container-id-1 div.sk-estimator {\n",
              "  font-family: monospace;\n",
              "  border: 1px dotted var(--sklearn-color-border-box);\n",
              "  border-radius: 0.25em;\n",
              "  box-sizing: border-box;\n",
              "  margin-bottom: 0.5em;\n",
              "  /* unfitted */\n",
              "  background-color: var(--sklearn-color-unfitted-level-0);\n",
              "}\n",
              "\n",
              "#sk-container-id-1 div.sk-estimator.fitted {\n",
              "  /* fitted */\n",
              "  background-color: var(--sklearn-color-fitted-level-0);\n",
              "}\n",
              "\n",
              "/* on hover */\n",
              "#sk-container-id-1 div.sk-estimator:hover {\n",
              "  /* unfitted */\n",
              "  background-color: var(--sklearn-color-unfitted-level-2);\n",
              "}\n",
              "\n",
              "#sk-container-id-1 div.sk-estimator.fitted:hover {\n",
              "  /* fitted */\n",
              "  background-color: var(--sklearn-color-fitted-level-2);\n",
              "}\n",
              "\n",
              "/* Specification for estimator info (e.g. \"i\" and \"?\") */\n",
              "\n",
              "/* Common style for \"i\" and \"?\" */\n",
              "\n",
              ".sk-estimator-doc-link,\n",
              "a:link.sk-estimator-doc-link,\n",
              "a:visited.sk-estimator-doc-link {\n",
              "  float: right;\n",
              "  font-size: smaller;\n",
              "  line-height: 1em;\n",
              "  font-family: monospace;\n",
              "  background-color: var(--sklearn-color-background);\n",
              "  border-radius: 1em;\n",
              "  height: 1em;\n",
              "  width: 1em;\n",
              "  text-decoration: none !important;\n",
              "  margin-left: 0.5em;\n",
              "  text-align: center;\n",
              "  /* unfitted */\n",
              "  border: var(--sklearn-color-unfitted-level-1) 1pt solid;\n",
              "  color: var(--sklearn-color-unfitted-level-1);\n",
              "}\n",
              "\n",
              ".sk-estimator-doc-link.fitted,\n",
              "a:link.sk-estimator-doc-link.fitted,\n",
              "a:visited.sk-estimator-doc-link.fitted {\n",
              "  /* fitted */\n",
              "  border: var(--sklearn-color-fitted-level-1) 1pt solid;\n",
              "  color: var(--sklearn-color-fitted-level-1);\n",
              "}\n",
              "\n",
              "/* On hover */\n",
              "div.sk-estimator:hover .sk-estimator-doc-link:hover,\n",
              ".sk-estimator-doc-link:hover,\n",
              "div.sk-label-container:hover .sk-estimator-doc-link:hover,\n",
              ".sk-estimator-doc-link:hover {\n",
              "  /* unfitted */\n",
              "  background-color: var(--sklearn-color-unfitted-level-3);\n",
              "  color: var(--sklearn-color-background);\n",
              "  text-decoration: none;\n",
              "}\n",
              "\n",
              "div.sk-estimator.fitted:hover .sk-estimator-doc-link.fitted:hover,\n",
              ".sk-estimator-doc-link.fitted:hover,\n",
              "div.sk-label-container:hover .sk-estimator-doc-link.fitted:hover,\n",
              ".sk-estimator-doc-link.fitted:hover {\n",
              "  /* fitted */\n",
              "  background-color: var(--sklearn-color-fitted-level-3);\n",
              "  color: var(--sklearn-color-background);\n",
              "  text-decoration: none;\n",
              "}\n",
              "\n",
              "/* Span, style for the box shown on hovering the info icon */\n",
              ".sk-estimator-doc-link span {\n",
              "  display: none;\n",
              "  z-index: 9999;\n",
              "  position: relative;\n",
              "  font-weight: normal;\n",
              "  right: .2ex;\n",
              "  padding: .5ex;\n",
              "  margin: .5ex;\n",
              "  width: min-content;\n",
              "  min-width: 20ex;\n",
              "  max-width: 50ex;\n",
              "  color: var(--sklearn-color-text);\n",
              "  box-shadow: 2pt 2pt 4pt #999;\n",
              "  /* unfitted */\n",
              "  background: var(--sklearn-color-unfitted-level-0);\n",
              "  border: .5pt solid var(--sklearn-color-unfitted-level-3);\n",
              "}\n",
              "\n",
              ".sk-estimator-doc-link.fitted span {\n",
              "  /* fitted */\n",
              "  background: var(--sklearn-color-fitted-level-0);\n",
              "  border: var(--sklearn-color-fitted-level-3);\n",
              "}\n",
              "\n",
              ".sk-estimator-doc-link:hover span {\n",
              "  display: block;\n",
              "}\n",
              "\n",
              "/* \"?\"-specific style due to the `<a>` HTML tag */\n",
              "\n",
              "#sk-container-id-1 a.estimator_doc_link {\n",
              "  float: right;\n",
              "  font-size: 1rem;\n",
              "  line-height: 1em;\n",
              "  font-family: monospace;\n",
              "  background-color: var(--sklearn-color-background);\n",
              "  border-radius: 1rem;\n",
              "  height: 1rem;\n",
              "  width: 1rem;\n",
              "  text-decoration: none;\n",
              "  /* unfitted */\n",
              "  color: var(--sklearn-color-unfitted-level-1);\n",
              "  border: var(--sklearn-color-unfitted-level-1) 1pt solid;\n",
              "}\n",
              "\n",
              "#sk-container-id-1 a.estimator_doc_link.fitted {\n",
              "  /* fitted */\n",
              "  border: var(--sklearn-color-fitted-level-1) 1pt solid;\n",
              "  color: var(--sklearn-color-fitted-level-1);\n",
              "}\n",
              "\n",
              "/* On hover */\n",
              "#sk-container-id-1 a.estimator_doc_link:hover {\n",
              "  /* unfitted */\n",
              "  background-color: var(--sklearn-color-unfitted-level-3);\n",
              "  color: var(--sklearn-color-background);\n",
              "  text-decoration: none;\n",
              "}\n",
              "\n",
              "#sk-container-id-1 a.estimator_doc_link.fitted:hover {\n",
              "  /* fitted */\n",
              "  background-color: var(--sklearn-color-fitted-level-3);\n",
              "}\n",
              "</style><div id=\"sk-container-id-1\" class=\"sk-top-container\"><div class=\"sk-text-repr-fallback\"><pre>NearestNeighbors(algorithm=&#x27;brute&#x27;, metric=&#x27;cosine&#x27;)</pre><b>In a Jupyter environment, please rerun this cell to show the HTML representation or trust the notebook. <br />On GitHub, the HTML representation is unable to render, please try loading this page with nbviewer.org.</b></div><div class=\"sk-container\" hidden><div class=\"sk-item\"><div class=\"sk-estimator fitted sk-toggleable\"><input class=\"sk-toggleable__control sk-hidden--visually\" id=\"sk-estimator-id-1\" type=\"checkbox\" checked><label for=\"sk-estimator-id-1\" class=\"sk-toggleable__label fitted sk-toggleable__label-arrow\"><div><div>NearestNeighbors</div></div><div><a class=\"sk-estimator-doc-link fitted\" rel=\"noreferrer\" target=\"_blank\" href=\"https://scikit-learn.org/1.6/modules/generated/sklearn.neighbors.NearestNeighbors.html\">?<span>Documentation for NearestNeighbors</span></a><span class=\"sk-estimator-doc-link fitted\">i<span>Fitted</span></span></div></label><div class=\"sk-toggleable__content fitted\"><pre>NearestNeighbors(algorithm=&#x27;brute&#x27;, metric=&#x27;cosine&#x27;)</pre></div> </div></div></div></div>"
            ]
          },
          "metadata": {},
          "execution_count": 35
        }
      ]
    },
    {
      "cell_type": "code",
      "source": [
        "def collaborative_filtering(user_id, n_recommendations=5):\n",
        "    user_idx = user_item_matrix.index.get_loc(user_id)\n",
        "    distances, indices = knn.kneighbors(user_item_sparse[user_idx], n_neighbors=n_recommendations+1)\n",
        "    recommended_books = user_item_matrix.columns[indices.flatten()[1:]]\n",
        "    return books[books['ISBN'].isin(recommended_books)]"
      ],
      "metadata": {
        "id": "XvGoQaO1mkRA"
      },
      "execution_count": 36,
      "outputs": []
    },
    {
      "cell_type": "markdown",
      "source": [
        "##Content-Based Filtering Algorithm"
      ],
      "metadata": {
        "id": "xGhnyATky1aK"
      }
    },
    {
      "cell_type": "code",
      "source": [
        "# Content-Based Filtering\n",
        "# TF-IDF vectorizer on book titles and authors with memory efficiency\n",
        "vectorizer = TfidfVectorizer(stop_words='english', max_features=5000)  # Limit features to reduce memory\n",
        "\n",
        "# Recalculate cosine_sim after reducing books DataFrame\n",
        "book_features_matrix = vectorizer.fit_transform(books['combined_features'])\n",
        "cosine_sim = cosine_similarity(book_features_matrix, book_features_matrix)"
      ],
      "metadata": {
        "id": "EEWd9Rr3mkOY"
      },
      "execution_count": 37,
      "outputs": []
    },
    {
      "cell_type": "code",
      "source": [
        "# Content-Based Recommendation function\n",
        "def content_based_filtering(book_isbn, n_recommendations=5):\n",
        "    if book_isbn not in books['ISBN'].values:\n",
        "        print(f\"ISBN {book_isbn} not found in the dataset.\")\n",
        "        return None\n",
        "    # Get the index of the book within the current books DataFrame\n",
        "    idx = books.index[books['ISBN'] == book_isbn][0]\n",
        "\n",
        "    # Map the index to the reduced DataFrame's index\n",
        "    idx = books.index.get_loc(idx)\n",
        "\n",
        "    sim_scores = list(enumerate(cosine_sim[idx]))\n",
        "    sim_scores = sorted(sim_scores, key=lambda x: x[1], reverse=True)\n",
        "    sim_scores = sim_scores[1:n_recommendations+1]\n",
        "    book_indices = [i[0] for i in sim_scores]\n",
        "    return books.iloc[book_indices]"
      ],
      "metadata": {
        "id": "5gyhTxKtmkMB"
      },
      "execution_count": 38,
      "outputs": []
    },
    {
      "cell_type": "markdown",
      "source": [
        "##Hybrid Approach Algorithm"
      ],
      "metadata": {
        "id": "celG1CDey9Ql"
      }
    },
    {
      "cell_type": "code",
      "source": [
        "# Hybrid Approach\n",
        "def hybrid_recommendation(user_id, book_isbn, n_recommendations=5):\n",
        "    collab_recs = collaborative_filtering(user_id, n_recommendations)\n",
        "    content_recs = content_based_filtering(book_isbn, n_recommendations)\n",
        "\n",
        "    # Handle the case where content_recs is None\n",
        "    if content_recs is None:\n",
        "        return collab_recs\n",
        "\n",
        "    hybrid_recs = pd.concat([collab_recs, content_recs]).drop_duplicates().head(n_recommendations)\n",
        "    return hybrid_recs"
      ],
      "metadata": {
        "id": "LAC6UPTKmkJa"
      },
      "execution_count": 39,
      "outputs": []
    },
    {
      "cell_type": "markdown",
      "source": [
        "##Knowledge Based Algorithm"
      ],
      "metadata": {
        "id": "KbA5hwh6zAo8"
      }
    },
    {
      "cell_type": "code",
      "source": [
        "# Knowledge-Based Recommendations\n",
        "def knowledge_based_recommendation(author=None, publisher=None, n_recommendations=5):\n",
        "    filtered_books = books\n",
        "    if author:\n",
        "        filtered_books = filtered_books[filtered_books['Book-Author'].str.contains(author, na=False)]\n",
        "    if publisher:\n",
        "        filtered_books = filtered_books[filtered_books['Publisher'].str.contains(publisher, na=False)]\n",
        "    return filtered_books.head(n_recommendations)"
      ],
      "metadata": {
        "id": "GnFW-qsgmkGf"
      },
      "execution_count": 40,
      "outputs": []
    },
    {
      "cell_type": "markdown",
      "source": [
        "#Recommendation System Output"
      ],
      "metadata": {
        "id": "w4TYK37DzH_n"
      }
    },
    {
      "cell_type": "code",
      "source": [
        "# Ensure the user_id exists in the reduced dataset\n",
        "example_user_id = user_item_matrix.index[0]  # Use the first available User-ID\n",
        "example_book_isbn = books.sample(1)['ISBN'].values[0]  # Pick a random ISBN from the reduced dataset"
      ],
      "metadata": {
        "id": "pOAImPfFm21U"
      },
      "execution_count": 41,
      "outputs": []
    },
    {
      "cell_type": "code",
      "source": [
        "# Display all columns and more rows for collaborative filtering\n",
        "pd.set_option('display.max_columns', None)  # Show all columns\n",
        "pd.set_option('display.max_rows', 10)  # Show more rows (adjust as needed)"
      ],
      "metadata": {
        "id": "T0jpaiptm2ya"
      },
      "execution_count": 42,
      "outputs": []
    },
    {
      "cell_type": "markdown",
      "source": [
        "##Collaborative Filtering Recommendations"
      ],
      "metadata": {
        "id": "PXnKFKQczPg8"
      }
    },
    {
      "cell_type": "code",
      "source": [
        "print(\"Collaborative Filtering Recommendations:\")\n",
        "print(tabulate(collaborative_filtering(user_id=example_user_id), headers='keys', tablefmt='psql'))"
      ],
      "metadata": {
        "colab": {
          "base_uri": "https://localhost:8080/"
        },
        "id": "eOpTWe75m2gZ",
        "outputId": "e69219a1-879f-4c34-bc18-b75e078afcc7"
      },
      "execution_count": 43,
      "outputs": [
        {
          "output_type": "stream",
          "name": "stdout",
          "text": [
            "Collaborative Filtering Recommendations:\n",
            "+--------+------------+----------------------------------------------------------------------------------------------------------------------------------------------+-------------------+-----------------------+--------------------------------------------------------------+--------------------------------------------------------------+--------------------------------------------------------------+----------------------------------------------------------------------------------------------------------------------------------------------------------+\n",
            "|        |       ISBN | Book-Title                                                                                                                                   | Book-Author       | Publisher             | Image-URL-S                                                  | Image-URL-M                                                  | Image-URL-L                                                  | combined_features                                                                                                                                        |\n",
            "|--------+------------+----------------------------------------------------------------------------------------------------------------------------------------------+-------------------+-----------------------+--------------------------------------------------------------+--------------------------------------------------------------+--------------------------------------------------------------+----------------------------------------------------------------------------------------------------------------------------------------------------------|\n",
            "| 147660 | 0316108847 | On the Contrary: A Novel : Being the Life of a Famous Rebel, Soldier, Traveller, Explorer, Reader, Builder, Scribe, Latinist, Lover and Liar | Andre Brink       | Little Brown &amp; Co | http://images.amazon.com/images/P/0316108847.01.THUMBZZZ.jpg | http://images.amazon.com/images/P/0316108847.01.MZZZZZZZ.jpg | http://images.amazon.com/images/P/0316108847.01.LZZZZZZZ.jpg | On the Contrary: A Novel : Being the Life of a Famous Rebel, Soldier, Traveller, Explorer, Reader, Builder, Scribe, Latinist, Lover and Liar Andre Brink |\n",
            "| 202893 | 0316111643 | Arthur Writes a Story (Arthur Adventure Series)                                                                                              | Marc Brown        | Little, Brown         | http://images.amazon.com/images/P/0316111643.01.THUMBZZZ.jpg | http://images.amazon.com/images/P/0316111643.01.MZZZZZZZ.jpg | http://images.amazon.com/images/P/0316111643.01.LZZZZZZZ.jpg | Arthur Writes a Story (Arthur Adventure Series) Marc Brown                                                                                               |\n",
            "|  35721 | 0316108243 | Arthur Lost and Found (Arthur Adventure Series)                                                                                              | Marc Brown        | Little, Brown         | http://images.amazon.com/images/P/0316108243.01.THUMBZZZ.jpg | http://images.amazon.com/images/P/0316108243.01.MZZZZZZZ.jpg | http://images.amazon.com/images/P/0316108243.01.LZZZZZZZ.jpg | Arthur Lost and Found (Arthur Adventure Series) Marc Brown                                                                                               |\n",
            "| 155168 | 0316112488 | Dinosaurs Divorce! : A Guide for Changing Families                                                                                           | Marc Brown        | Little, Brown         | http://images.amazon.com/images/P/0316112488.01.THUMBZZZ.jpg | http://images.amazon.com/images/P/0316112488.01.MZZZZZZZ.jpg | http://images.amazon.com/images/P/0316112488.01.LZZZZZZZ.jpg | Dinosaurs Divorce! : A Guide for Changing Families Marc Brown                                                                                            |\n",
            "|  73372 | 0316108677 | His Kisses Are Dreamy...but Those Hairballs Down My Cleavage...!: Another Tender Outland Collection                                          | Berkeley Breathed | Little Brown &amp; Co | http://images.amazon.com/images/P/0316108677.01.THUMBZZZ.jpg | http://images.amazon.com/images/P/0316108677.01.MZZZZZZZ.jpg | http://images.amazon.com/images/P/0316108677.01.LZZZZZZZ.jpg | His Kisses Are Dreamy...but Those Hairballs Down My Cleavage...!: Another Tender Outland Collection Berkeley Breathed                                    |\n",
            "+--------+------------+----------------------------------------------------------------------------------------------------------------------------------------------+-------------------+-----------------------+--------------------------------------------------------------+--------------------------------------------------------------+--------------------------------------------------------------+----------------------------------------------------------------------------------------------------------------------------------------------------------+\n"
          ]
        }
      ]
    },
    {
      "cell_type": "markdown",
      "source": [
        "##Content-Based Recommendations"
      ],
      "metadata": {
        "id": "SbI3yuiyzSaM"
      }
    },
    {
      "cell_type": "code",
      "source": [
        "print(\"Content-Based Recommendations:\")\n",
        "print(tabulate(content_based_filtering(book_isbn=example_book_isbn), headers='keys', tablefmt='psql'))"
      ],
      "metadata": {
        "colab": {
          "base_uri": "https://localhost:8080/"
        },
        "id": "JIbSIbsvm2dw",
        "outputId": "34594c83-99b8-48c3-8efc-a1fcd2352a0f"
      },
      "execution_count": 46,
      "outputs": [
        {
          "output_type": "stream",
          "name": "stdout",
          "text": [
            "Content-Based Recommendations:\n",
            "+--------+------------+-------------------------------------------------------+------------------+------------------+--------------------------------------------------------------+--------------------------------------------------------------+--------------------------------------------------------------+----------------------------------------------------------------------+\n",
            "|        | ISBN       | Book-Title                                            | Book-Author      | Publisher        | Image-URL-S                                                  | Image-URL-M                                                  | Image-URL-L                                                  | combined_features                                                    |\n",
            "|--------+------------+-------------------------------------------------------+------------------+------------------+--------------------------------------------------------------+--------------------------------------------------------------+--------------------------------------------------------------+----------------------------------------------------------------------|\n",
            "| 156221 | 0810944804 | Backpacks and Bookmarks: Ten Stories About School     | Cedric Ramadier  | Harry N Abrams   | http://images.amazon.com/images/P/0810944804.01.THUMBZZZ.jpg | http://images.amazon.com/images/P/0810944804.01.MZZZZZZZ.jpg | http://images.amazon.com/images/P/0810944804.01.LZZZZZZZ.jpg | Backpacks and Bookmarks: Ten Stories About School Cedric Ramadier    |\n",
            "| 180124 | 0440484618 | Something Queer at the Haunted School (Yearling Book) | Elizabeth Levy   | Yearling Books   | http://images.amazon.com/images/P/0440484618.01.THUMBZZZ.jpg | http://images.amazon.com/images/P/0440484618.01.MZZZZZZZ.jpg | http://images.amazon.com/images/P/0440484618.01.LZZZZZZZ.jpg | Something Queer at the Haunted School (Yearling Book) Elizabeth Levy |\n",
            "|   1480 | 1931520038 | The Mount: A Novel                                    | Carol Emshwiller | Small Beer Press | http://images.amazon.com/images/P/1931520038.01.THUMBZZZ.jpg | http://images.amazon.com/images/P/1931520038.01.MZZZZZZZ.jpg | http://images.amazon.com/images/P/1931520038.01.LZZZZZZZ.jpg | The Mount: A Novel Carol Emshwiller                                  |\n",
            "|  29425 | 0515103454 | Haunted                                               | James Herbert    | Jove Books       | http://images.amazon.com/images/P/0515103454.01.THUMBZZZ.jpg | http://images.amazon.com/images/P/0515103454.01.MZZZZZZZ.jpg | http://images.amazon.com/images/P/0515103454.01.LZZZZZZZ.jpg | Haunted James Herbert                                                |\n",
            "| 140096 | 059009890X | Haunted Cleats (Screammates , No 1)                   | Keiran Flynn     | Scholastic       | http://images.amazon.com/images/P/059009890X.01.THUMBZZZ.jpg | http://images.amazon.com/images/P/059009890X.01.MZZZZZZZ.jpg | http://images.amazon.com/images/P/059009890X.01.LZZZZZZZ.jpg | Haunted Cleats (Screammates , No 1) Keiran Flynn                     |\n",
            "+--------+------------+-------------------------------------------------------+------------------+------------------+--------------------------------------------------------------+--------------------------------------------------------------+--------------------------------------------------------------+----------------------------------------------------------------------+\n"
          ]
        }
      ]
    },
    {
      "cell_type": "markdown",
      "source": [
        "##Hybrid Recommendations"
      ],
      "metadata": {
        "id": "kt5JYv5ezVkZ"
      }
    },
    {
      "cell_type": "code",
      "source": [
        "print(\"Hybrid Recommendations:\")\n",
        "print(tabulate(hybrid_recommendation(user_id=example_user_id, book_isbn=example_book_isbn), headers='keys', tablefmt='psql'))"
      ],
      "metadata": {
        "colab": {
          "base_uri": "https://localhost:8080/"
        },
        "id": "xBIwMbFWm8x-",
        "outputId": "d4bf5854-99e0-4f20-f8fa-484169e26bea"
      },
      "execution_count": 47,
      "outputs": [
        {
          "output_type": "stream",
          "name": "stdout",
          "text": [
            "Hybrid Recommendations:\n",
            "+--------+------------+----------------------------------------------------------------------------------------------------------------------------------------------+-------------------+-----------------------+--------------------------------------------------------------+--------------------------------------------------------------+--------------------------------------------------------------+----------------------------------------------------------------------------------------------------------------------------------------------------------+\n",
            "|        |       ISBN | Book-Title                                                                                                                                   | Book-Author       | Publisher             | Image-URL-S                                                  | Image-URL-M                                                  | Image-URL-L                                                  | combined_features                                                                                                                                        |\n",
            "|--------+------------+----------------------------------------------------------------------------------------------------------------------------------------------+-------------------+-----------------------+--------------------------------------------------------------+--------------------------------------------------------------+--------------------------------------------------------------+----------------------------------------------------------------------------------------------------------------------------------------------------------|\n",
            "| 147660 | 0316108847 | On the Contrary: A Novel : Being the Life of a Famous Rebel, Soldier, Traveller, Explorer, Reader, Builder, Scribe, Latinist, Lover and Liar | Andre Brink       | Little Brown &amp; Co | http://images.amazon.com/images/P/0316108847.01.THUMBZZZ.jpg | http://images.amazon.com/images/P/0316108847.01.MZZZZZZZ.jpg | http://images.amazon.com/images/P/0316108847.01.LZZZZZZZ.jpg | On the Contrary: A Novel : Being the Life of a Famous Rebel, Soldier, Traveller, Explorer, Reader, Builder, Scribe, Latinist, Lover and Liar Andre Brink |\n",
            "| 202893 | 0316111643 | Arthur Writes a Story (Arthur Adventure Series)                                                                                              | Marc Brown        | Little, Brown         | http://images.amazon.com/images/P/0316111643.01.THUMBZZZ.jpg | http://images.amazon.com/images/P/0316111643.01.MZZZZZZZ.jpg | http://images.amazon.com/images/P/0316111643.01.LZZZZZZZ.jpg | Arthur Writes a Story (Arthur Adventure Series) Marc Brown                                                                                               |\n",
            "|  35721 | 0316108243 | Arthur Lost and Found (Arthur Adventure Series)                                                                                              | Marc Brown        | Little, Brown         | http://images.amazon.com/images/P/0316108243.01.THUMBZZZ.jpg | http://images.amazon.com/images/P/0316108243.01.MZZZZZZZ.jpg | http://images.amazon.com/images/P/0316108243.01.LZZZZZZZ.jpg | Arthur Lost and Found (Arthur Adventure Series) Marc Brown                                                                                               |\n",
            "| 155168 | 0316112488 | Dinosaurs Divorce! : A Guide for Changing Families                                                                                           | Marc Brown        | Little, Brown         | http://images.amazon.com/images/P/0316112488.01.THUMBZZZ.jpg | http://images.amazon.com/images/P/0316112488.01.MZZZZZZZ.jpg | http://images.amazon.com/images/P/0316112488.01.LZZZZZZZ.jpg | Dinosaurs Divorce! : A Guide for Changing Families Marc Brown                                                                                            |\n",
            "|  73372 | 0316108677 | His Kisses Are Dreamy...but Those Hairballs Down My Cleavage...!: Another Tender Outland Collection                                          | Berkeley Breathed | Little Brown &amp; Co | http://images.amazon.com/images/P/0316108677.01.THUMBZZZ.jpg | http://images.amazon.com/images/P/0316108677.01.MZZZZZZZ.jpg | http://images.amazon.com/images/P/0316108677.01.LZZZZZZZ.jpg | His Kisses Are Dreamy...but Those Hairballs Down My Cleavage...!: Another Tender Outland Collection Berkeley Breathed                                    |\n",
            "+--------+------------+----------------------------------------------------------------------------------------------------------------------------------------------+-------------------+-----------------------+--------------------------------------------------------------+--------------------------------------------------------------+--------------------------------------------------------------+----------------------------------------------------------------------------------------------------------------------------------------------------------+\n"
          ]
        }
      ]
    },
    {
      "cell_type": "markdown",
      "source": [
        "##Knowledge-Based Recommendations"
      ],
      "metadata": {
        "id": "wKkebVYNzZMt"
      }
    },
    {
      "cell_type": "code",
      "source": [
        "print(\"Knowledge-Based Recommendations:\")\n",
        "print(tabulate(knowledge_based_recommendation(author=\"Bruce W. Talamon\"), headers='keys', tablefmt='psql'))"
      ],
      "metadata": {
        "colab": {
          "base_uri": "https://localhost:8080/"
        },
        "id": "r_8udm7dm8vW",
        "outputId": "46de7920-f8b2-46a3-f7de-7841fa990d3e"
      },
      "execution_count": 48,
      "outputs": [
        {
          "output_type": "stream",
          "name": "stdout",
          "text": [
            "Knowledge-Based Recommendations:\n",
            "+--------+------------+---------------------------+------------------+---------------------------+--------------------------------------------------------------+--------------------------------------------------------------+--------------------------------------------------------------+--------------------------------------------+\n",
            "|        |       ISBN | Book-Title                | Book-Author      | Publisher                 | Image-URL-S                                                  | Image-URL-M                                                  | Image-URL-L                                                  | combined_features                          |\n",
            "|--------+------------+---------------------------+------------------+---------------------------+--------------------------------------------------------------+--------------------------------------------------------------+--------------------------------------------------------------+--------------------------------------------|\n",
            "| 109019 | 0393321738 | Bob Marley: Spirit Dancer | Bruce W. Talamon | W.W. Norton &amp; Company | http://images.amazon.com/images/P/0393321738.01.THUMBZZZ.jpg | http://images.amazon.com/images/P/0393321738.01.MZZZZZZZ.jpg | http://images.amazon.com/images/P/0393321738.01.LZZZZZZZ.jpg | Bob Marley: Spirit Dancer Bruce W. Talamon |\n",
            "+--------+------------+---------------------------+------------------+---------------------------+--------------------------------------------------------------+--------------------------------------------------------------+--------------------------------------------------------------+--------------------------------------------+\n"
          ]
        }
      ]
    },
    {
      "cell_type": "markdown",
      "source": [
        "#Visualizations"
      ],
      "metadata": {
        "id": "n8-LqQpDzb3G"
      }
    },
    {
      "cell_type": "markdown",
      "source": [
        "##Libraries Used"
      ],
      "metadata": {
        "id": "CFPVJFrDzi5E"
      }
    },
    {
      "cell_type": "code",
      "source": [
        "import matplotlib.pyplot as plt\n",
        "import seaborn as sns"
      ],
      "metadata": {
        "id": "G0sJKSjCqKuZ"
      },
      "execution_count": 52,
      "outputs": []
    },
    {
      "cell_type": "markdown",
      "source": [
        "##Book Ratings Distribution"
      ],
      "metadata": {
        "id": "8_l_qKXMzkz8"
      }
    },
    {
      "cell_type": "code",
      "source": [
        "# Visualize book ratings distribution\n",
        "plt.figure(figsize=(10, 6))\n",
        "sns.histplot(ratings['Book-Rating'], kde=True)\n",
        "plt.title('Distribution of Book Ratings')\n",
        "plt.xlabel('Book Rating')\n",
        "plt.ylabel('Frequency')\n",
        "plt.show()"
      ],
      "metadata": {
        "colab": {
          "base_uri": "https://localhost:8080/",
          "height": 564
        },
        "id": "VQyrsVO1oYFk",
        "outputId": "bfd1d001-e6d7-4eb6-8158-bfd1780043e6"
      },
      "execution_count": 53,
      "outputs": [
        {
          "output_type": "display_data",
          "data": {
            "text/plain": [
              "<Figure size 1000x600 with 1 Axes>"
            ],
            "image/png": "[encoded data removed]"
          },
          "metadata": {}
        }
      ]
    },
    {
      "cell_type": "markdown",
      "source": [
        "##Top 10 Authors"
      ],
      "metadata": {
        "id": "Ib5iAswzzobe"
      }
    },
    {
      "cell_type": "code",
      "source": [
        "# Visualize top authors\n",
        "top_authors = books['Book-Author'].value_counts().head(10)\n",
        "plt.figure(figsize=(12, 6))\n",
        "sns.barplot(x=top_authors.values, y=top_authors.index)\n",
        "plt.title('Top 10 Authors')\n",
        "plt.xlabel('Number of Books')\n",
        "plt.ylabel('Author')\n",
        "plt.show()"
      ],
      "metadata": {
        "colab": {
          "base_uri": "https://localhost:8080/",
          "height": 564
        },
        "id": "LjiveoHwpxcp",
        "outputId": "3d68e786-d50c-4ccf-e74a-dedb18571e62"
      },
      "execution_count": 50,
      "outputs": [
        {
          "output_type": "display_data",
          "data": {
            "text/plain": [
              "<Figure size 1200x600 with 1 Axes>"
            ],
            "image/png": "[encoded data removed]"
          },
          "metadata": {}
        }
      ]
    },
    {
      "cell_type": "markdown",
      "source": [
        "##Top 10 Publishers"
      ],
      "metadata": {
        "id": "hxneIXBtzvNq"
      }
    },
    {
      "cell_type": "code",
      "source": [
        "# Visualize top publishers\n",
        "top_publishers = books['Publisher'].value_counts().head(10)\n",
        "plt.figure(figsize=(12, 6))\n",
        "sns.barplot(x=top_publishers.values, y=top_publishers.index)\n",
        "plt.title('Top 10 Publishers')\n",
        "plt.xlabel('Number of Books')\n",
        "plt.ylabel('Publisher')\n",
        "plt.show()"
      ],
      "metadata": {
        "colab": {
          "base_uri": "https://localhost:8080/",
          "height": 564
        },
        "id": "FnYEYafcqNpc",
        "outputId": "eea236d0-c9c5-423a-cb40-3c6b203bf962"
      },
      "execution_count": 51,
      "outputs": [
        {
          "output_type": "display_data",
          "data": {
            "text/plain": [
              "<Figure size 1200x600 with 1 Axes>"
            ],
            "image/png": "[encoded data removed]"
          },
          "metadata": {}
        }
      ]
    },
    {
      "cell_type": "markdown",
      "source": [
        "##Average Rating Per Book"
      ],
      "metadata": {
        "id": "EEWfoQRzzx6U"
      }
    },
    {
      "cell_type": "code",
      "source": [
        "# Visualize average rating per book\n",
        "average_ratings = ratings.groupby('ISBN')['Book-Rating'].mean()\n",
        "plt.figure(figsize=(10, 6))\n",
        "sns.histplot(average_ratings, kde=True)\n",
        "plt.title('Distribution of Average Book Ratings')\n",
        "plt.xlabel('Average Book Rating')\n",
        "plt.ylabel('Number of Books')\n",
        "plt.show()"
      ],
      "metadata": {
        "colab": {
          "base_uri": "https://localhost:8080/",
          "height": 564
        },
        "id": "0ASE5qWNqcSh",
        "outputId": "8d58b5b2-daef-4654-a58e-dd96db7e2b40"
      },
      "execution_count": 55,
      "outputs": [
        {
          "output_type": "display_data",
          "data": {
            "text/plain": [
              "<Figure size 1000x600 with 1 Axes>"
            ],
            "image/png": "[encoded data removed]"
          },
          "metadata": {}
        }
      ]
    },
    {
      "cell_type": "code",
      "source": [],
      "metadata": {
        "id": "-zYTH2HS0GHC"
      },
      "execution_count": null,
      "outputs": []
    }
  ]
}